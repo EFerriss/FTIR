{
 "cells": [
  {
   "cell_type": "code",
   "execution_count": 6,
   "metadata": {
    "collapsed": false
   },
   "outputs": [],
   "source": [
    "from os.path import dirname, join\n",
    "\n",
    "import pynams\n",
    "import pandas as pd\n",
    "import numpy as np\n",
    "\n",
    "from bokeh.plotting import figure, show\n",
    "from bokeh.layouts import layout, widgetbox\n",
    "from bokeh.models import ColumnDataSource, HoverTool, Div\n",
    "from bokeh.models.widgets import Slider, Select, TextInput\n",
    "from bokeh.io import curdoc\n",
    "from bokeh.sampledata.movies_data import movie_path\n",
    "\n",
    "movies_path = ''.join((pynams.thisfolder, 'diffusion\\\\literaturevalues.csv'))\n",
    "movies = pd.read_csv(movies_path)\n",
    "movies.fillna(0, inplace=True) # just replace missing values with zero\n",
    "\n",
    "desc = Div(text='H diffusivities in olivine')\n",
    "\n",
    "movies[\"color\"] = np.where(movies[\"Author\"] == 'Ferriss', \"orange\", \"grey\")\n",
    "\n",
    "# Create Input controls\n",
    "# author = TextInput(title=\"Last name of first author\")\n",
    "source = ColumnDataSource(data=dict(x=[], y=[], color=[], title=[], year=[], revenue=[], alpha=[]))\n",
    "hover = HoverTool(tooltips=[\n",
    "    (\"Mineral\", \"@mineral\"),\n",
    "    (\"Fo#\", \"@fo\"),\n",
    "    (\"||\", \"@orient\"),\n",
    "    (\"Peak\", \"@peak\"),\n",
    "    (\"Author\", \"@author\"),\n",
    "    (\"Year\", \"@year\")\n",
    "])\n",
    "\n",
    "p = figure(plot_height=600, plot_width=700, title=\"\", toolbar_location=None, tools=[hover])\n",
    "# p.circle(x=\"x\", y=\"y\", source=source, size=7, color=\"color\", line_color=None, fill_alpha=\"alpha\")\n",
    "\n",
    "\n",
    "# def select_movies():\n",
    "#     selected = movies\n",
    "#     return selected\n",
    "\n",
    "\n",
    "# def update():\n",
    "#      df = select_movies()\n",
    "#      p.title.text = \"%d measurements selected\" % len(df)\n",
    "#      source.data = dict(\n",
    "#          x=df['celsius'],\n",
    "#          y=df['log10D'],\n",
    "#          color=df[\"color\"],\n",
    "#      )\n",
    "\n",
    "# controls = [author]\n",
    "# for control in controls:\n",
    "#     control.on_change('value', lambda attr, old, new: update())\n",
    "\n",
    "# sizing_mode = 'fixed'  \n",
    "\n",
    "# inputs = widgetbox(*controls, sizing_mode=sizing_mode)\n",
    "# l = layout([\n",
    "#     [desc],\n",
    "#     [inputs, p],\n",
    "# ], sizing_mode=sizing_mode)\n",
    "\n",
    "# p.xaxis.axis_label = '1/T'\n",
    "# p.yaxis.axis_label = 'logD'\n",
    "\n",
    "# update()\n",
    "\n",
    "show(p)\n",
    "# curdoc().add_root(l)\n",
    "# curdoc().title = \"H Diffusion\""
   ]
  },
  {
   "cell_type": "code",
   "execution_count": null,
   "metadata": {
    "collapsed": true
   },
   "outputs": [],
   "source": []
  }
 ],
 "metadata": {
  "kernelspec": {
   "display_name": "Python 3",
   "language": "python",
   "name": "python3"
  },
  "language_info": {
   "codemirror_mode": {
    "name": "ipython",
    "version": 3
   },
   "file_extension": ".py",
   "mimetype": "text/x-python",
   "name": "python",
   "nbconvert_exporter": "python",
   "pygments_lexer": "ipython3",
   "version": "3.6.0"
  }
 },
 "nbformat": 4,
 "nbformat_minor": 1
}
