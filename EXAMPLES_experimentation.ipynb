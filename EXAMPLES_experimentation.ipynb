{
 "cells": [
  {
   "cell_type": "markdown",
   "metadata": {},
   "source": [
    "# Some functions that help when running experiments\n",
    "## General setup"
   ]
  },
  {
   "cell_type": "code",
   "execution_count": 1,
   "metadata": {
    "collapsed": false
   },
   "outputs": [],
   "source": [
    "from __future__ import print_function, division\n",
    "%matplotlib inline\n",
    "%config InlineBackend.figure_formats=[\"svg\"]\n",
    "from pynams import experiments"
   ]
  },
  {
   "cell_type": "markdown",
   "metadata": {},
   "source": [
    "## Oxygen fugacity (fO2)\n",
    "### What is the log base 10 of the fO2 in bars for a given temperature and buffer?"
   ]
  },
  {
   "cell_type": "code",
   "execution_count": 2,
   "metadata": {
    "collapsed": false
   },
   "outputs": [
    {
     "name": "stdout",
     "output_type": "stream",
     "text": [
      "-10.319558889368887\n"
     ]
    }
   ],
   "source": [
    "fO2 = experiments.fO2(celsius=1000, buffer_curve='NNO')\n",
    "print(fO2)"
   ]
  },
  {
   "cell_type": "markdown",
   "metadata": {},
   "source": [
    "### What does that fO2 correspond to in mV reported by an O2 sensor?"
   ]
  },
  {
   "cell_type": "code",
   "execution_count": 3,
   "metadata": {
    "collapsed": false
   },
   "outputs": [
    {
     "name": "stdout",
     "output_type": "stream",
     "text": [
      "\n",
      " -0.652 target mV on pO2 meter\n",
      "\n"
     ]
    }
   ],
   "source": [
    "experiments.mV_from_log10fO2(celsius=1000, log10fO2=fO2)"
   ]
  },
  {
   "cell_type": "markdown",
   "metadata": {},
   "source": [
    "### My fO2 meter is reading x mV. What fO2 does that correspond to in bars?"
   ]
  },
  {
   "cell_type": "code",
   "execution_count": 4,
   "metadata": {
    "collapsed": false
   },
   "outputs": [
    {
     "name": "stdout",
     "output_type": "stream",
     "text": [
      "-12.7 log10 oxygen fugacity\n"
     ]
    }
   ],
   "source": [
    "logfO2 = experiments.log10fO2_from_mV(celsius=1000, mV=-0.8)"
   ]
  }
 ],
 "metadata": {
  "kernelspec": {
   "display_name": "Python 2",
   "language": "python",
   "name": "python2"
  },
  "language_info": {
   "codemirror_mode": {
    "name": "ipython",
    "version": 2
   },
   "file_extension": ".py",
   "mimetype": "text/x-python",
   "name": "python",
   "nbconvert_exporter": "python",
   "pygments_lexer": "ipython2",
   "version": "2.7.12"
  }
 },
 "nbformat": 4,
 "nbformat_minor": 1
}
